{
 "cells": [
  {
   "cell_type": "code",
   "execution_count": 1,
   "metadata": {},
   "outputs": [
    {
     "name": "stdout",
     "output_type": "stream",
     "text": [
      "Unique labels in segmentation mask: [0. 1. 2. 4.]\n",
      "Input shape: torch.Size([4, 240, 240, 155])\n",
      "Segmentation mask shape: torch.Size([1, 240, 240, 155])\n",
      "3D MRI saved at: C:\\Users\\LENOVO\\3D_Brain_Tumor_Detec_and_Seg\\Dataset\\Processed\\processed_mri.nii.gz\n",
      "3D Segmentation mask saved at: C:\\Users\\LENOVO\\3D_Brain_Tumor_Detec_and_Seg\\Dataset\\Processed\\processed_segmentation.nii.gz\n"
     ]
    }
   ],
   "source": [
    "import nibabel as nib\n",
    "import numpy as np\n",
    "import torch\n",
    "import os\n",
    "\n",
    "\n",
    "# Function to load NIfTI files\n",
    "def load_nifti(file_path):\n",
    "    nifti_img = nib.load(file_path)  \n",
    "    return np.array(nifti_img.get_fdata(), dtype=np.float32)  # Convert to NumPy array\n",
    "\n",
    "# Example Paths (Modify these paths)\n",
    "t1_path = r\"D:\\Downloads\\BraTS2021_Training_Data\\BraTS2021_00000\\BraTS2021_00000_t1.nii.gz\"\n",
    "t1ce_path = r\"D:\\Downloads\\BraTS2021_Training_Data\\BraTS2021_00000\\BraTS2021_00000_t1ce.nii.gz\"\n",
    "t2_path = r\"D:\\Downloads\\BraTS2021_Training_Data\\BraTS2021_00000\\BraTS2021_00000_t2.nii.gz\"\n",
    "flair_path = r\"D:\\Downloads\\BraTS2021_Training_Data\\BraTS2021_00000\\BraTS2021_00000_flair.nii.gz\"\n",
    "seg_path = r\"D:\\Downloads\\BraTS2021_Training_Data\\BraTS2021_00000\\BraTS2021_00000_seg.nii.gz\"\n",
    "\n",
    "# Load each modality\n",
    "t1 = load_nifti(t1_path)\n",
    "t1ce = load_nifti(t1ce_path)\n",
    "t2 = load_nifti(t2_path)\n",
    "flair = load_nifti(flair_path)\n",
    "seg = load_nifti(seg_path)  # Segmentation mask\n",
    "\n",
    "# Stack modalities as channels (C, H, W, D) -> (4, 240, 240, 155)\n",
    "input_data = np.stack([t1, t1ce, t2, flair], axis=0)  # Input with 4 channels\n",
    "\n",
    "# Convert segmentation mask (C, H, W, D) -> (1, 240, 240, 155)\n",
    "seg = np.expand_dims(seg, axis=0)\n",
    "\n",
    "# Get unique labels from segmentation mask (including background)\n",
    "unique_labels = np.unique(seg)\n",
    "print(\"Unique labels in segmentation mask:\", unique_labels)\n",
    "\n",
    "# Convert to PyTorch tensor\n",
    "input_tensor = torch.tensor(input_data, dtype=torch.float32)\n",
    "seg_tensor = torch.tensor(seg, dtype=torch.long)  # Long type for segmentation labels\n",
    "\n",
    "print(\"Input shape:\", input_tensor.shape)  # Should be (4, 240, 240, 155)\n",
    "print(\"Segmentation mask shape:\", seg_tensor.shape)  # Should be (1, 240, 240, 155)\n",
    "\n",
    "\n",
    "# Define the output directory\n",
    "output_dir = r\"C:\\Users\\LENOVO\\3D_Brain_Tumor_Detec_and_Seg\\Dataset\\Processed\"\n",
    "\n",
    "# Ensure the directory exists\n",
    "os.makedirs(output_dir, exist_ok=True)\n",
    "\n",
    "# Save the processed MRI as a NIfTI file\n",
    "output_mri_path = os.path.join(output_dir, \"processed_mri.nii.gz\")\n",
    "output_nifti = nib.Nifti1Image(input_data, affine=np.eye(4))  # Identity affine matrix\n",
    "nib.save(output_nifti, output_mri_path)\n",
    "print(f\"3D MRI saved at: {output_mri_path}\")\n",
    "\n",
    "# Save the segmentation mask as a NIfTI file\n",
    "output_seg_path = os.path.join(output_dir, \"processed_segmentation.nii.gz\")\n",
    "output_seg_nifti = nib.Nifti1Image(seg, affine=np.eye(4))\n",
    "nib.save(output_seg_nifti, output_seg_path)\n",
    "print(f\"3D Segmentation mask saved at: {output_seg_path}\")\n",
    "\n"
   ]
  },
  {
   "cell_type": "code",
   "execution_count": 2,
   "metadata": {},
   "outputs": [
    {
     "name": "stdout",
     "output_type": "stream",
     "text": [
      "Input Data Shape: (4, 240, 240, 155)\n",
      "Input Data Min: 0.0\n",
      "Input Data Max: 12343.0\n",
      "Input Data Mean: 183.98611\n"
     ]
    }
   ],
   "source": [
    "print(\"Input Data Shape:\", input_data.shape)\n",
    "print(\"Input Data Min:\", np.min(input_data))\n",
    "print(\"Input Data Max:\", np.max(input_data))\n",
    "print(\"Input Data Mean:\", np.mean(input_data))"
   ]
  },
  {
   "cell_type": "code",
   "execution_count": 4,
   "metadata": {},
   "outputs": [
    {
     "name": "stdout",
     "output_type": "stream",
     "text": [
      "Input Data Shape: (4, 240, 240, 155)\n",
      "Input Data Min: 0\n",
      "Input Data Max: 255\n",
      "Input Data Mean: 3.7180565076164873\n"
     ]
    }
   ],
   "source": [
    "# Normalize to [0,1]\n",
    "input_data = (input_data - np.min(input_data)) / (np.max(input_data) - np.min(input_data))\n",
    "\n",
    "# Scale to [0,255] for better visualization\n",
    "input_data = (input_data * 255).astype(np.uint8)\n",
    "\n",
    "original_mri = nib.load(t1_path)  # Use any original MRI\n",
    "correct_affine = original_mri.affine  # Get the correct affine\n",
    "\n",
    "output_nifti = nib.Nifti1Image(input_data, affine=correct_affine)\n",
    "nib.save(output_nifti, mri_path)\n",
    "\n",
    "print(\"✅ MRI saved with the correct affine matrix!\")\n",
    "print(\"Input Data Shape:\", input_data.shape)\n",
    "print(\"Input Data Min:\", np.min(input_data))\n",
    "print(\"Input Data Max:\", np.max(input_data))\n",
    "print(\"Input Data Mean:\", np.mean(input_data))\n"
   ]
  },
  {
   "cell_type": "code",
   "execution_count": null,
   "metadata": {},
   "outputs": [],
   "source": []
  }
 ],
 "metadata": {
  "kernelspec": {
   "display_name": "Python 3",
   "language": "python",
   "name": "python3"
  },
  "language_info": {
   "codemirror_mode": {
    "name": "ipython",
    "version": 3
   },
   "file_extension": ".py",
   "mimetype": "text/x-python",
   "name": "python",
   "nbconvert_exporter": "python",
   "pygments_lexer": "ipython3",
   "version": "3.11.9"
  }
 },
 "nbformat": 4,
 "nbformat_minor": 2
}
